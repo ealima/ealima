{
  "cells": [
    {
      "cell_type": "code",
      "execution_count": 1,
      "metadata": {
        "id": "IUHOXWRVvf2V"
      },
      "outputs": [],
      "source": [
        "import cv2\n",
        "import numpy as np\n",
        "from matplotlib import pyplot as plt\n",
        "from PIL import Image, ImageStat\n"
      ]
    },
    {
      "cell_type": "code",
      "execution_count": 3,
      "metadata": {
        "id": "BidXNXJ1vf2W"
      },
      "outputs": [],
      "source": [
        "#img_hipotetica = np.array([(1, 2, 3), (4, 5, 6), (7, 8 ,9)])\n",
        "#print(img_hipotetica)\n"
      ]
    },
    {
      "cell_type": "code",
      "execution_count": null,
      "metadata": {
        "colab": {
          "base_uri": "https://localhost:8080/"
        },
        "id": "BEgLqPJPvf2Y",
        "outputId": "fc7aad20-51ce-4036-dd31-a1ce9d5fe48b"
      },
      "outputs": [
        {
          "output_type": "stream",
          "name": "stdout",
          "text": [
            "Fourier Coefficients: \n",
            "[45.  +0.j         -4.5+12.36364839j -4.5 +5.36289117j -4.5 +2.59807621j\n",
            " -4.5 +0.79347141j -4.5 -0.79347141j -4.5 -2.59807621j -4.5 -5.36289117j\n",
            " -4.5-12.36364839j]\n",
            "\n",
            "Mean of the image : [5.]\n",
            "Energy in Space : 285\n",
            "Energy in Frequency : 285.0\n",
            "Parseval's Theorem confirmed: \n"
          ]
        },
        {
          "output_type": "execute_result",
          "data": {
            "text/plain": [
              "True"
            ]
          },
          "metadata": {},
          "execution_count": 3
        }
      ],
      "source": [
        "f = np.array(img_hipotetica)\n",
        "f = f.flatten() #veja o denominador do lado direito da equação do Teorema de Parseval (energia na frequencia: 2D)\n",
        "dim = f.shape\n",
        "\n",
        "F = np.fft.fft(f) #fast-fourier transform\n",
        "print(\"Fourier Coefficients: \")\n",
        "print(F)\n",
        "print()\n",
        "\n",
        "Coef_00 = np.abs(F[0])\n",
        "mean_image = Coef_00/dim\n",
        "print(\"Mean of the image : \" + str(mean_image))\n",
        "\n",
        "\n",
        "# space and frequency domain\n",
        "space = np.sum(np.abs(f)**2)\n",
        "print(\"Energy in Space : \" + str(space))\n",
        "\n",
        "freq= np.sum(np.abs(F)**2)/f.size\n",
        "print(\"Energy in Frequency : \" + str(freq))\n",
        "\n",
        "print(\"Parseval's Theorem confirmed: \")\n",
        "np.allclose(space,freq)\n"
      ]
    },
    {
      "cell_type": "code",
      "execution_count": null,
      "metadata": {
        "scrolled": true,
        "id": "8lXcvUCVvf2Z",
        "outputId": "8acfe94a-a30c-495d-b312-5c51ce511a07"
      },
      "outputs": [
        {
          "name": "stdout",
          "output_type": "stream",
          "text": [
            "Fourier Coefficients: \n",
            "[27632665.             +0.j          -544767.27944285-477091.13648406j\n",
            "  -647485.76408968+285065.77717817j ...   215395.36028393-361837.01245131j\n",
            "  -647485.76408968-285065.77717817j  -544767.27944285+477091.13648406j]\n",
            "\n",
            "Mean of the image : [105.41025162]\n",
            "Energy in Space : 3216838063.0\n",
            "Energy in Frequency : 3216838062.9999986\n",
            "Parseval's Theorem confirmed: \n"
          ]
        },
        {
          "data": {
            "text/plain": [
              "True"
            ]
          },
          "execution_count": 73,
          "metadata": {},
          "output_type": "execute_result"
        }
      ],
      "source": [
        "import numpy as np\n",
        "from PIL import Image, ImageStat\n",
        "\n",
        "\n",
        "img = Image.open('lena.png') # since I don't have cv2 installed, for instance.\n",
        "#img.dtype\n",
        "#img = np.array(img)[:, :, 2] # my guess is that cv2.imread and Image.open returns uint8\n",
        "img = np.array(img)[:, :, 2].astype(np.float64)\n",
        "\n",
        "f = np.array(img)\n",
        "f = f.flatten() #veja o denominador do lado direito da equação do Teorema de Parseval (energia na frequencia: 2D)\n",
        "dim = f.shape\n",
        "\n",
        "F = np.fft.fft(f) #fast-fourier transform\n",
        "print(\"Fourier Coefficients: \")\n",
        "print(F)\n",
        "print()\n",
        "\n",
        "Coef_00 = np.abs(F[0])\n",
        "mean_image = Coef_00/dim\n",
        "print(\"Mean of the image : \" + str(mean_image))\n",
        "\n",
        "\n",
        "# space and frequency domain\n",
        "space = np.sum(np.abs(f)**2)\n",
        "print(\"Energy in Space : \" + str(space))\n",
        "\n",
        "freq= np.sum(np.abs(F)**2)/f.size\n",
        "print(\"Energy in Frequency : \" + str(freq))\n",
        "\n",
        "print(\"Parseval's Theorem confirmed: \")\n",
        "np.allclose(space,freq)"
      ]
    },
    {
      "cell_type": "code",
      "execution_count": null,
      "metadata": {
        "id": "Yw_E4vO_vf2a",
        "outputId": "5165a6d3-bba5-4cce-fc01-2a5002e788bf"
      },
      "outputs": [
        {
          "name": "stdout",
          "output_type": "stream",
          "text": [
            "[180.22365951538086, 99.05121612548828, 105.41025161743164]\n"
          ]
        }
      ],
      "source": [
        "img = Image.open('lena.png') # since I don't have cv2 installed, for instance\n",
        "img1 = np.array(img)[:, :, 2]\n",
        "img1.dtype\n",
        "stat = ImageStat.Stat(img)\n",
        "print(stat.mean)"
      ]
    },
    {
      "cell_type": "code",
      "execution_count": null,
      "metadata": {
        "id": "pg9OIEaxvf2a"
      },
      "outputs": [],
      "source": []
    }
  ],
  "metadata": {
    "kernelspec": {
      "display_name": "Python 3",
      "language": "python",
      "name": "python3"
    },
    "language_info": {
      "codemirror_mode": {
        "name": "ipython",
        "version": 3
      },
      "file_extension": ".py",
      "mimetype": "text/x-python",
      "name": "python",
      "nbconvert_exporter": "python",
      "pygments_lexer": "ipython3",
      "version": "3.8.3"
    },
    "colab": {
      "provenance": []
    }
  },
  "nbformat": 4,
  "nbformat_minor": 0
}